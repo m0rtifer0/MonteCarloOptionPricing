{
 "cells": [
  {
   "cell_type": "code",
   "execution_count": 2,
   "id": "c33a0e87",
   "metadata": {},
   "outputs": [
    {
     "name": "stdout",
     "output_type": "stream",
     "text": [
      "European Call Price: 10.4102\n",
      "European Put Price: 5.6019\n"
     ]
    }
   ],
   "source": [
    "import sys\n",
    "import os\n",
    "\n",
    "sys.path.append(os.path.abspath(os.path.join(os.getcwd(), \"..\")))\n",
    "from core.monte_carlo_basic import monte_carlo_option_pricing\n",
    "\n",
    "price_call = monte_carlo_option_pricing(S0=100, K=100, T=1, r=0.05, sigma=0.2, num_simulations=100000, option_type='call')\n",
    "price_put = monte_carlo_option_pricing(S0=100, K=100, T=1, r=0.05, sigma=0.2, num_simulations=100000, option_type='put')\n",
    "\n",
    "print(f\"European Call Price: {price_call:.4f}\")\n",
    "print(f\"European Put Price: {price_put:.4f}\")\n"
   ]
  },
  {
   "cell_type": "code",
   "execution_count": 3,
   "id": "a16f0f40",
   "metadata": {},
   "outputs": [
    {
     "name": "stdout",
     "output_type": "stream",
     "text": [
      "Black-Scholes Call Price: 10.4506\n",
      "Black-Scholes Put Price: 5.5735\n"
     ]
    }
   ],
   "source": [
    "from core.black_scholes import black_scholes_call, black_scholes_put\n",
    "\n",
    "S0, K, T, r, sigma = 100, 100, 1, 0.05, 0.2\n",
    "\n",
    "bs_call = black_scholes_call(S0, K, T, r, sigma)\n",
    "bs_put = black_scholes_put(S0, K, T, r, sigma)\n",
    "\n",
    "print(f\"Black-Scholes Call Price: {bs_call:.4f}\")\n",
    "print(f\"Black-Scholes Put Price: {bs_put:.4f}\")\n"
   ]
  }
 ],
 "metadata": {
  "kernelspec": {
   "display_name": "Python 3",
   "language": "python",
   "name": "python3"
  },
  "language_info": {
   "codemirror_mode": {
    "name": "ipython",
    "version": 3
   },
   "file_extension": ".py",
   "mimetype": "text/x-python",
   "name": "python",
   "nbconvert_exporter": "python",
   "pygments_lexer": "ipython3",
   "version": "3.11.8"
  }
 },
 "nbformat": 4,
 "nbformat_minor": 5
}
