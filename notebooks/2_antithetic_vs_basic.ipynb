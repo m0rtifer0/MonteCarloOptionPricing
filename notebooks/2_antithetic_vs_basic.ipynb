{
 "cells": [
  {
   "cell_type": "code",
   "execution_count": 1,
   "id": "1ec14570",
   "metadata": {},
   "outputs": [],
   "source": [
    "import sys, os\n",
    "sys.path.append(os.path.abspath(os.path.join(os.getcwd(), \"..\")))"
   ]
  },
  {
   "cell_type": "code",
   "execution_count": 2,
   "id": "ad46f91b",
   "metadata": {},
   "outputs": [],
   "source": [
    "from core.variance_reduction import monte_carlo_antithetic\n",
    "from core.monte_carlo_basic import monte_carlo_option_pricing\n",
    "from core.black_scholes import black_scholes_call"
   ]
  },
  {
   "cell_type": "code",
   "execution_count": 3,
   "id": "1b641c88",
   "metadata": {},
   "outputs": [
    {
     "name": "stdout",
     "output_type": "stream",
     "text": [
      "Black-Scholes:           10.4506\n",
      "Basic Monte Carlo:       10.1860 (Error: 0.2646)\n",
      "Antithetic Monte Carlo:  10.4105 (Error: 0.0401)\n"
     ]
    }
   ],
   "source": [
    "S0, K, T, r, sigma = 100, 100, 1, 0.05, 0.2\n",
    "true_value = black_scholes_call(S0, K, T, r, sigma)\n",
    "\n",
    "num_sim = 10000\n",
    "\n",
    "basic = monte_carlo_option_pricing(S0, K, T, r, sigma, num_sim, option_type='call')\n",
    "antithetic = monte_carlo_antithetic(S0, K, T, r, sigma, num_sim, option_type='call')\n",
    "\n",
    "print(f\"Black-Scholes:           {true_value:.4f}\")\n",
    "print(f\"Basic Monte Carlo:       {basic:.4f} (Error: {abs(basic - true_value):.4f})\")\n",
    "print(f\"Antithetic Monte Carlo:  {antithetic:.4f} (Error: {abs(antithetic - true_value):.4f})\")\n"
   ]
  }
 ],
 "metadata": {
  "kernelspec": {
   "display_name": "Python 3",
   "language": "python",
   "name": "python3"
  },
  "language_info": {
   "codemirror_mode": {
    "name": "ipython",
    "version": 3
   },
   "file_extension": ".py",
   "mimetype": "text/x-python",
   "name": "python",
   "nbconvert_exporter": "python",
   "pygments_lexer": "ipython3",
   "version": "3.11.8"
  }
 },
 "nbformat": 4,
 "nbformat_minor": 5
}
