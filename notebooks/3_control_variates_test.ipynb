{
 "cells": [
  {
   "cell_type": "code",
   "execution_count": 116,
   "id": "2f66d405",
   "metadata": {},
   "outputs": [
    {
     "name": "stdout",
     "output_type": "stream",
     "text": [
      "Black-Scholes:              10.4506\n",
      "Basic Monte Carlo:          10.4262 (Error: 0.0243)\n",
      "Antithetic Monte Carlo:     10.4686 (Error: 0.0180)\n",
      "Control Variate Monte Carlo:10.4487 (Error: 0.0019)\n"
     ]
    }
   ],
   "source": [
    "import sys, os\n",
    "sys.path.append(os.path.abspath(os.path.join(os.getcwd(), \"..\")))\n",
    "\n",
    "from core.variance_reduction import monte_carlo_control_variate, monte_carlo_antithetic\n",
    "from core.monte_carlo_basic import monte_carlo_option_pricing\n",
    "from core.black_scholes import black_scholes_call\n",
    "\n",
    "S0, K, T, r, sigma = 100, 100, 1, 0.05, 0.2\n",
    "true_value = black_scholes_call(S0, K, T, r, sigma)\n",
    "num_sim = 100000  # Daha güvenilir sonuç için\n",
    "\n",
    "basic = monte_carlo_option_pricing(S0, K, T, r, sigma, num_sim, option_type='call')\n",
    "antithetic = monte_carlo_antithetic(S0, K, T, r, sigma, num_sim, option_type='call')\n",
    "control_variate = monte_carlo_control_variate(S0, K, T, r, sigma, num_sim, option_type='call')\n",
    "\n",
    "print(f\"Black-Scholes:              {true_value:.4f}\")\n",
    "print(f\"Basic Monte Carlo:          {basic:.4f} (Error: {abs(basic - true_value):.4f})\")\n",
    "print(f\"Antithetic Monte Carlo:     {antithetic:.4f} (Error: {abs(antithetic - true_value):.4f})\")\n",
    "print(f\"Control Variate Monte Carlo:{control_variate:.4f} (Error: {abs(control_variate - true_value):.4f})\")\n"
   ]
  }
 ],
 "metadata": {
  "kernelspec": {
   "display_name": "Python 3",
   "language": "python",
   "name": "python3"
  },
  "language_info": {
   "codemirror_mode": {
    "name": "ipython",
    "version": 3
   },
   "file_extension": ".py",
   "mimetype": "text/x-python",
   "name": "python",
   "nbconvert_exporter": "python",
   "pygments_lexer": "ipython3",
   "version": "3.11.8"
  }
 },
 "nbformat": 4,
 "nbformat_minor": 5
}
