{
 "cells": [
  {
   "cell_type": "code",
   "execution_count": 1,
   "id": "0b9c8ad2",
   "metadata": {},
   "outputs": [
    {
     "name": "stdout",
     "output_type": "stream",
     "text": [
      "Asian Arithmetic Call Price: 5.8293\n",
      "Asian Arithmetic Put Price:  3.3783\n"
     ]
    }
   ],
   "source": [
    "import sys, os\n",
    "sys.path.append(os.path.abspath(os.path.join(os.getcwd(), \"..\")))\n",
    "\n",
    "from core.monte_carlo_exotic import monte_carlo_asian_arithmetic\n",
    "\n",
    "S0, K, T, r, sigma = 100, 100, 1, 0.05, 0.2\n",
    "num_sim = 100_000\n",
    "num_steps = 100\n",
    "\n",
    "asian_call = monte_carlo_asian_arithmetic(S0, K, T, r, sigma, num_simulations=num_sim, num_steps=num_steps, option_type='call')\n",
    "asian_put = monte_carlo_asian_arithmetic(S0, K, T, r, sigma, num_simulations=num_sim, num_steps=num_steps, option_type='put')\n",
    "\n",
    "print(f\"Asian Arithmetic Call Price: {asian_call:.4f}\")\n",
    "print(f\"Asian Arithmetic Put Price:  {asian_put:.4f}\")\n"
   ]
  },
  {
   "cell_type": "code",
   "execution_count": 22,
   "id": "01157032",
   "metadata": {},
   "outputs": [
    {
     "name": "stdout",
     "output_type": "stream",
     "text": [
      "Asian Geometric Call (MC):     5.6419\n",
      "Asian Geometric Call (Closed): 5.5468\n",
      "Error:                         0.0951\n"
     ]
    }
   ],
   "source": [
    "import sys, os\n",
    "sys.path.append(os.path.abspath(os.path.join(os.getcwd(), \"..\")))\n",
    "\n",
    "from core.monte_carlo_exotic import (\n",
    "    monte_carlo_asian_geometric,\n",
    "    asian_geometric_call_analytic\n",
    ")\n",
    "\n",
    "S0, K, T, r, sigma = 100, 100, 1, 0.05, 0.2\n",
    "num_sim = 100_000\n",
    "num_steps = 100\n",
    "\n",
    "mc_geo_call = monte_carlo_asian_geometric(S0, K, T, r, sigma, num_sim, num_steps, option_type='call')\n",
    "analytic_geo_call = asian_geometric_call_analytic(S0, K, T, r, sigma)\n",
    "\n",
    "print(f\"Asian Geometric Call (MC):     {mc_geo_call:.4f}\")\n",
    "print(f\"Asian Geometric Call (Closed): {analytic_geo_call:.4f}\")\n",
    "print(f\"Error:                         {abs(mc_geo_call - analytic_geo_call):.4f}\")\n"
   ]
  }
 ],
 "metadata": {
  "kernelspec": {
   "display_name": "Python 3",
   "language": "python",
   "name": "python3"
  },
  "language_info": {
   "codemirror_mode": {
    "name": "ipython",
    "version": 3
   },
   "file_extension": ".py",
   "mimetype": "text/x-python",
   "name": "python",
   "nbconvert_exporter": "python",
   "pygments_lexer": "ipython3",
   "version": "3.11.8"
  }
 },
 "nbformat": 4,
 "nbformat_minor": 5
}
